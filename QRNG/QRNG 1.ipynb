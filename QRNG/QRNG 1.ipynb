{
 "cells": [
  {
   "cell_type": "code",
   "execution_count": 4,
   "id": "070f0319",
   "metadata": {},
   "outputs": [
    {
     "name": "stdout",
     "output_type": "stream",
     "text": [
      "[226, 135, 127, 90, 237]\n"
     ]
    }
   ],
   "source": [
    "import random\n",
    "randomlist = []\n",
    "for i in range(0,5):\n",
    "    n = random.randint(0,256)\n",
    "    randomlist.append(n)\n",
    "print(randomlist)"
   ]
  },
  {
   "cell_type": "code",
   "execution_count": 5,
   "id": "b789e7ef",
   "metadata": {},
   "outputs": [
    {
     "name": "stdout",
     "output_type": "stream",
     "text": [
      "Desired length random binary string is:  11100001\n"
     ]
    }
   ],
   "source": [
    "import random\n",
    "def rand_key(p):\n",
    "    key1 = \"\"\n",
    "    for i in range(p):\n",
    "        temp = str(random.randint(0, 1))\n",
    "        key1 += temp         \n",
    "    return(key1)\n",
    "n = 8\n",
    "str1 = rand_key(n)\n",
    "print(\"Desired length random binary string is: \", str1)"
   ]
  },
  {
   "cell_type": "code",
   "execution_count": 3,
   "id": "450fe3d9",
   "metadata": {},
   "outputs": [],
   "source": [
    "import random\n",
    "\n",
    "N = 100000\n",
    "Range = 64\n",
    "\n",
    "with open('output.txt', 'w') as output_file:    \n",
    "    for _ in range(N):\n",
    "        random_num = random.randrange(Range)\n",
    "        output_file.write('{:06b}\\n'.format(random_num))\n"
   ]
  },
  {
   "cell_type": "code",
   "execution_count": 8,
   "id": "94de11d7",
   "metadata": {},
   "outputs": [
    {
     "name": "stdout",
     "output_type": "stream",
     "text": [
      "10\n"
     ]
    }
   ],
   "source": [
    "import random\n",
    "import numpy as np\n",
    "import matplotlib.pyplot as plt\n",
    "\n",
    "N = 100\n",
    "Range = 1023\n",
    "Range_bin = bin(Range).replace(\"0b\", \"\")\n",
    "len_Range_bin = len(str(Range_bin))\n",
    "print(len_Range_bin)\n",
    "mu = Range/2\n",
    "sigma = 25\n",
    "output = []\n",
    "s = np.random.normal(mu, sigma, N)\n",
    "\n",
    "#with open('output.txt', 'w') as output_file:    \n",
    "for i in range(N):\n",
    "    random_num = int(random.gauss(mu, sigma))\n",
    "    random_bin = bin(random_num).replace(\"0b\", \"\")\n",
    "    random_binary = random_bin.zfill(len_Range_bin)\n",
    "    output.append(random_binary)\n",
    "    #output_file.write('{:02b}\\n'.format(output))\n",
    "    np.savetxt(\"file_name9.txt\", output, delimiter=\",\", fmt='%s')\n",
    " \n",
    "#plt.plot(output)  \n",
    "#plt.show()"
   ]
  },
  {
   "cell_type": "code",
   "execution_count": null,
   "id": "37d802e3",
   "metadata": {},
   "outputs": [],
   "source": []
  }
 ],
 "metadata": {
  "kernelspec": {
   "display_name": "Python 3 (ipykernel)",
   "language": "python",
   "name": "python3"
  },
  "language_info": {
   "codemirror_mode": {
    "name": "ipython",
    "version": 3
   },
   "file_extension": ".py",
   "mimetype": "text/x-python",
   "name": "python",
   "nbconvert_exporter": "python",
   "pygments_lexer": "ipython3",
   "version": "3.11.4"
  }
 },
 "nbformat": 4,
 "nbformat_minor": 5
}
